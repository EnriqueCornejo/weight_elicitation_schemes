{
 "cells": [
  {
   "cell_type": "code",
   "execution_count": 1,
   "metadata": {
    "collapsed": true
   },
   "outputs": [],
   "source": [
    "%matplotlib inline\n",
    "\n",
    "from __future__ import print_function\n",
    "from ipywidgets import interact, interactive, fixed, interact_manual\n",
    "import ipywidgets as widgets\n",
    "import numpy as np\n",
    "import matplotlib.pyplot as plt\n",
    "import inspect\n",
    "from sklearn.preprocessing import normalize"
   ]
  },
  {
   "cell_type": "code",
   "execution_count": 2,
   "metadata": {
    "collapsed": false
   },
   "outputs": [
    {
     "data": {
      "text/plain": [
       "array([ 0.41176471,  0.17647059,  0.41176471])"
      ]
     },
     "metadata": {},
     "output_type": "display_data"
    }
   ],
   "source": [
    "def g(category_one, category_two, category_three):\n",
    "    frame = inspect.currentframe()\n",
    "    args, _, _, values = inspect.getargvalues(frame)\n",
    "    vals = [values[i] for i in args]\n",
    "    total = sum(vals)\n",
    "    pond = np.divide(vals, [total] * len(vals))\n",
    "    return(pond)\n",
    "\n",
    "interact(g,\n",
    "    category_one   = widgets.IntSlider(min=0,max=10,step=1,value=5, continuous_update = False),\n",
    "    category_two   = widgets.IntSlider(min=0,max=10,step=1,value=5, continuous_update = False),\n",
    "    category_three = widgets.IntSlider(min=0,max=10,step=1,value=5, continuous_update = False)\n",
    ")"
   ]
  },
  {
   "cell_type": "code",
   "execution_count": 3,
   "metadata": {
    "collapsed": false
   },
   "outputs": [
    {
     "data": {
      "text/plain": [
       "array([ 0.44444444,  0.11111111,  0.44444444])"
      ]
     },
     "metadata": {},
     "output_type": "display_data"
    }
   ],
   "source": [
    "@interact(\n",
    "    category_one   = widgets.IntSlider(min=-2,max=2,step=1,value=0, continuous_update = False),\n",
    "    category_two   = widgets.IntSlider(min=-2,max=2,step=1,value=0, continuous_update = False),\n",
    "    category_three = widgets.IntSlider(min=-2,max=2,step=1,value=0, continuous_update = False)\n",
    ")\n",
    "\n",
    "def g(category_one, category_two, category_three):\n",
    "    frame = inspect.currentframe()\n",
    "    args, _, _, values = inspect.getargvalues(frame)\n",
    "    vals = [values[i] for i in args]\n",
    "    exponents = []\n",
    "    for val in vals:\n",
    "        exponents.append(2**val)\n",
    "    total = sum(exponents)\n",
    "    results = np.divide(exponents, [total] * len(exponents))\n",
    "    return(results)"
   ]
  },
  {
   "cell_type": "code",
   "execution_count": 4,
   "metadata": {
    "collapsed": false
   },
   "outputs": [
    {
     "name": "stdout",
     "output_type": "stream",
     "text": [
      "Pairwise comparison matrix:\n",
      "[[ 1.  1.  1.]\n",
      " [ 1.  1.  1.]\n",
      " [ 1.  1.  1.]]\n",
      "\n",
      "\n",
      "Column totals:\n",
      "[ 3.  3.  3.]\n",
      "\n",
      "\n",
      "Normalized matrix:\n",
      "[[ 0.33333333  0.33333333  0.33333333]\n",
      " [ 0.33333333  0.33333333  0.33333333]\n",
      " [ 0.33333333  0.33333333  0.33333333]]\n",
      "\n",
      "\n",
      "Absolute weights (row totals, 1st norm ev):\n",
      "[ 1.  1.  1.]\n",
      "\n",
      "\n",
      "Absolute weights:\n",
      "[[ 0.33333333  0.33333333  0.33333333]]\n",
      "\n",
      "\n"
     ]
    },
    {
     "data": {
      "text/plain": [
       "<function __main__.g>"
      ]
     },
     "execution_count": 4,
     "metadata": {},
     "output_type": "execute_result"
    }
   ],
   "source": [
    "def g(one_vs_two, one_vs_three, two_vs_three):\n",
    "    frame = inspect.currentframe()\n",
    "    args, _, _, values = inspect.getargvalues(frame)\n",
    "    vals = [values[i] for i in args]\n",
    "    vals = np.divide(vals, 10)\n",
    "    mat = np.empty([len(vals), len(vals)], dtype=float)\n",
    "    cont = 0\n",
    "    for i in range(0, len(vals)):\n",
    "        for j in range(0, len(vals)):\n",
    "            if(i == j):\n",
    "                mat[i, j] = 1.0\n",
    "            elif (i < j):\n",
    "                mat[i, j] = vals[cont] / (1 - vals[cont])\n",
    "                mat[j, i] = (1 - vals[cont]) / vals[cont]\n",
    "                cont += 1\n",
    "    print(\"Pairwise comparison matrix:\")\n",
    "    print(mat)\n",
    "    print(\"\\n\")\n",
    "    column_totals = np.apply_along_axis(sum, 0, mat)\n",
    "    print(\"Column totals:\")\n",
    "    print(column_totals)\n",
    "    print(\"\\n\")\n",
    "    normalized_mat = normalize(mat, norm='l1', axis=0)\n",
    "    print(\"Normalized matrix:\")\n",
    "    print(normalized_mat)\n",
    "    print(\"\\n\")\n",
    "    row_totals = np.apply_along_axis(sum, 1, normalized_mat)\n",
    "    print(\"Absolute weights (row totals, 1st norm ev):\")\n",
    "    print(row_totals)\n",
    "    print(\"\\n\")\n",
    "    relative_weights = normalize(row_totals.reshape(1, -1), norm='l1')\n",
    "    print(\"Absolute weights:\")\n",
    "    print(relative_weights)\n",
    "    print(\"\\n\")\n",
    "    return(None)\n",
    "         \n",
    "interact(g, \n",
    "    one_vs_two   = widgets.IntSlider(min=0.0,max=10.0,step=0.01,value=5, continuous_update = False),\n",
    "    one_vs_three = widgets.IntSlider(min=0.0,max=10.0,step=0.01,value=5, continuous_update = False),\n",
    "    two_vs_three = widgets.IntSlider(min=0.0,max=10.0,step=0.01,value=5, continuous_update = False)\n",
    ")\n",
    "\n"
   ]
  },
  {
   "cell_type": "code",
   "execution_count": null,
   "metadata": {
    "collapsed": true
   },
   "outputs": [],
   "source": []
  }
 ],
 "metadata": {
  "kernelspec": {
   "display_name": "Python 3",
   "language": "python",
   "name": "python3"
  },
  "language_info": {
   "codemirror_mode": {
    "name": "ipython",
    "version": 3
   },
   "file_extension": ".py",
   "mimetype": "text/x-python",
   "name": "python",
   "nbconvert_exporter": "python",
   "pygments_lexer": "ipython3",
   "version": "3.6.0"
  },
  "widgets": {
   "state": {
    "2efa9ba881f846a7946363474b3d16e7": {
     "views": [
      {
       "cell_index": 1
      }
     ]
    },
    "9028c3542ba04b3497bb11386f035653": {
     "views": [
      {
       "cell_index": 2
      }
     ]
    },
    "b1796221c154406794cd8670b97ca04b": {
     "views": [
      {
       "cell_index": 3
      }
     ]
    }
   },
   "version": "1.2.0"
  }
 },
 "nbformat": 4,
 "nbformat_minor": 2
}
